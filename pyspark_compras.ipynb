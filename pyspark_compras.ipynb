{
  "nbformat": 4,
  "nbformat_minor": 0,
  "metadata": {
    "colab": {
      "provenance": [],
      "include_colab_link": true
    },
    "kernelspec": {
      "name": "python3",
      "display_name": "Python 3"
    },
    "language_info": {
      "name": "python"
    }
  },
  "cells": [
    {
      "cell_type": "markdown",
      "metadata": {
        "id": "view-in-github",
        "colab_type": "text"
      },
      "source": [
        "<a href=\"https://colab.research.google.com/github/brunacataldo/Bootcamp_Engenharia_de_Dados/blob/main/pyspark_compras.ipynb\" target=\"_parent\"><img src=\"https://colab.research.google.com/assets/colab-badge.svg\" alt=\"Open In Colab\"/></a>"
      ]
    },
    {
      "cell_type": "code",
      "source": [
        "#INSTALAR O PYSPARK\n",
        "!pip install pyspark"
      ],
      "metadata": {
        "colab": {
          "base_uri": "https://localhost:8080/"
        },
        "id": "Go962GeJrXlh",
        "outputId": "f19c5db4-9ca5-47c4-874a-3b8283ae1f22"
      },
      "execution_count": 1,
      "outputs": [
        {
          "output_type": "stream",
          "name": "stdout",
          "text": [
            "Collecting pyspark\n",
            "  Downloading pyspark-3.5.0.tar.gz (316.9 MB)\n",
            "\u001b[2K     \u001b[90m━━━━━━━━━━━━━━━━━━━━━━━━━━━━━━━━━━━━━━━━\u001b[0m \u001b[32m316.9/316.9 MB\u001b[0m \u001b[31m3.8 MB/s\u001b[0m eta \u001b[36m0:00:00\u001b[0m\n",
            "\u001b[?25h  Preparing metadata (setup.py) ... \u001b[?25l\u001b[?25hdone\n",
            "Requirement already satisfied: py4j==0.10.9.7 in /usr/local/lib/python3.10/dist-packages (from pyspark) (0.10.9.7)\n",
            "Building wheels for collected packages: pyspark\n",
            "  Building wheel for pyspark (setup.py) ... \u001b[?25l\u001b[?25hdone\n",
            "  Created wheel for pyspark: filename=pyspark-3.5.0-py2.py3-none-any.whl size=317425345 sha256=89f66fd8faeccaeb970b59d3b75c0ce31f3d5a9617c1088f7e6140d8043cafb1\n",
            "  Stored in directory: /root/.cache/pip/wheels/41/4e/10/c2cf2467f71c678cfc8a6b9ac9241e5e44a01940da8fbb17fc\n",
            "Successfully built pyspark\n",
            "Installing collected packages: pyspark\n",
            "Successfully installed pyspark-3.5.0\n"
          ]
        }
      ]
    },
    {
      "cell_type": "code",
      "source": [
        "#IMPORTAR AS BIBLIOTECAS NECESSÁRIAS\n",
        "import pandas as pd\n",
        "from pyspark.sql import SparkSession\n",
        "import pyspark.sql.functions as F\n",
        "from pyspark.sql.functions import col\n",
        "from pyspark.sql.types import NullType"
      ],
      "metadata": {
        "id": "etMRbl4vr-4-"
      },
      "execution_count": 109,
      "outputs": []
    },
    {
      "cell_type": "code",
      "source": [
        "#CONFIGURAR A SPARK SESSION\n",
        "spark = (\n",
        "   SparkSession.builder\n",
        "               .master('local')\n",
        "               .appName('data-frames')\n",
        "               .config('spark.ui.port', '4050')\n",
        "               .getOrCreate()\n",
        ")"
      ],
      "metadata": {
        "id": "8VfHloOtsoRV"
      },
      "execution_count": 3,
      "outputs": []
    },
    {
      "cell_type": "code",
      "source": [
        "spark"
      ],
      "metadata": {
        "colab": {
          "base_uri": "https://localhost:8080/",
          "height": 219
        },
        "id": "5-bgY09Ju-QN",
        "outputId": "c48bf5d6-2193-41b9-8f38-701ee5d62fa1"
      },
      "execution_count": 4,
      "outputs": [
        {
          "output_type": "execute_result",
          "data": {
            "text/plain": [
              "<pyspark.sql.session.SparkSession at 0x7e0118768e50>"
            ],
            "text/html": [
              "\n",
              "            <div>\n",
              "                <p><b>SparkSession - in-memory</b></p>\n",
              "                \n",
              "        <div>\n",
              "            <p><b>SparkContext</b></p>\n",
              "\n",
              "            <p><a href=\"http://acad3cae0b0c:4050\">Spark UI</a></p>\n",
              "\n",
              "            <dl>\n",
              "              <dt>Version</dt>\n",
              "                <dd><code>v3.5.0</code></dd>\n",
              "              <dt>Master</dt>\n",
              "                <dd><code>local</code></dd>\n",
              "              <dt>AppName</dt>\n",
              "                <dd><code>data-frames</code></dd>\n",
              "            </dl>\n",
              "        </div>\n",
              "        \n",
              "            </div>\n",
              "        "
            ]
          },
          "metadata": {},
          "execution_count": 4
        }
      ]
    },
    {
      "cell_type": "code",
      "source": [
        "#TRABALHAR COM OS DATAFRAMES\n",
        "df = (\n",
        "    spark.read\n",
        "         .format('csv')\n",
        "         .option('header', 'true')\n",
        "         .option('inferschema', 'true')\n",
        "         .option('delimiter', ';')\n",
        "         .load('/content/compras.csv')\n",
        ")"
      ],
      "metadata": {
        "id": "g_2faVvMvbp6"
      },
      "execution_count": 5,
      "outputs": []
    },
    {
      "cell_type": "markdown",
      "source": [
        "# Nova seção"
      ],
      "metadata": {
        "id": "7p4eT_JDItjy"
      }
    },
    {
      "cell_type": "code",
      "source": [
        "df.printSchema()"
      ],
      "metadata": {
        "id": "zgNgWuQfydVb",
        "colab": {
          "base_uri": "https://localhost:8080/"
        },
        "outputId": "4b23d023-7ed8-4665-b7f1-88aa5bb1684c"
      },
      "execution_count": 6,
      "outputs": [
        {
          "output_type": "stream",
          "name": "stdout",
          "text": [
            "root\n",
            " |-- Username: string (nullable = true)\n",
            " |-- Nome: string (nullable = true)\n",
            " |-- Sexo: string (nullable = true)\n",
            " |-- Data_Nascimento: string (nullable = true)\n",
            " |-- Ocupação: string (nullable = true)\n",
            " |-- Assinatura: string (nullable = true)\n",
            " |-- Total_Gasto : double (nullable = true)\n",
            "\n"
          ]
        }
      ]
    },
    {
      "cell_type": "code",
      "source": [
        "df.show(truncate=False)"
      ],
      "metadata": {
        "id": "p-ReTc0kykMC",
        "colab": {
          "base_uri": "https://localhost:8080/"
        },
        "outputId": "bf9d491e-12e5-4851-8bf7-02488fe4ad02"
      },
      "execution_count": 7,
      "outputs": [
        {
          "output_type": "stream",
          "name": "stdout",
          "text": [
            "+-------------+-------------------------+---------+---------------+-----------------------------------+----------+------------+\n",
            "|Username     |Nome                     |Sexo     |Data_Nascimento|Ocupação                           |Assinatura|Total_Gasto |\n",
            "+-------------+-------------------------+---------+---------------+-----------------------------------+----------+------------+\n",
            "|Neaude1978   |  Mr \\tbailey Glover     |masculino|01/12/1979     |Analista de Inteligência de Mercado|01/10/2021|1257.45     |\n",
            "|Maress39     |Mrs  \\t isabella   Fowler|feminino |04/08/1960     |Arquiteto de Dados                 |24/03/2020|771.99      |\n",
            "|Kehonell     | Mrs Chloe \\tKirby       |feminino |28/06/1949     |Analista de RH                     |07/06/2020|1021.77     |\n",
            "|Thimpay      | Mrs louise \\tClark      |feminino |07/01/1995     |Arquiteto de Dados                 |03/11/2020|234.76      |\n",
            "|Giall1985    |Mr Harrison \\t Bowen     |feminino |04/04/1987     |Engenheiro de Dados                |25/03/2020|628.07      |\n",
            "|Neave1959    |Mrs anna \\t     Sharp    |feminino |02/02/1970     |Engenheiro de Dados                |18/09/2020|140.04      |\n",
            "|Nicterims1993|  Mrs \\tDaisy Anderson   |masculino|05/07/1985     |Engenheiro de Dados                |29/01/2021|2417.81     |\n",
            "|Fouldlairity |Ms zoe \\tPeacock         |masculino|03/06/1964     |Analista Financeiro                |04/12/2020|51.95       |\n",
            "|Ancomettiody | Mrs Libby \\tWilliams    |feminino |04/09/1974     |Estatístico                        |21/11/2020|130.73      |\n",
            "|Onswis       |Ms Katie \\tMmtcalfe      |feminino |01/07/1983     |Engenheiro de Machine Learning     |27/02/2021|1778.72     |\n",
            "|Majeappre    |Mr Luca \\tVaughan        |feminino |03/01/1971     |Gerente de Tecnologia              |15/07/2022|1034.74     |\n",
            "|Theired      |Mr Henry \\tHaynes        |masculino|06/09/1951     |Analista de Inteligência de Mercado|23/12/2022|1320.04     |\n",
            "|Botter       |Mr Noah \\tWalton         |feminino |09/03/1991     |Web Designer                       |26/07/2022|3464.72     |\n",
            "+-------------+-------------------------+---------+---------------+-----------------------------------+----------+------------+\n",
            "\n"
          ]
        }
      ]
    },
    {
      "cell_type": "code",
      "source": [
        "#Mostrar apenas Username, Sexo, Ocupação e Total Gasto\n",
        "#df.select(F.col('Username'), F.col('Sexo'), F.col('Ocupação'), F.col('Total_Gasto ')).show()\n",
        "#df.select('Username', 'Sexo', 'Ocupação', 'Total_Gasto ').show()\n",
        "#lista_colunas = ['Username', 'Sexo', 'Ocupação', 'Total_Gasto ']\n",
        "#df.select(lista_colunas).show()"
      ],
      "metadata": {
        "id": "AGWONde90TsO"
      },
      "execution_count": null,
      "outputs": []
    },
    {
      "cell_type": "code",
      "source": [
        "#Mostrar apenas Username, Sexo, Ocupação e Total Gasto apenas quando o Total for maior que 1000\n",
        "df.select(F.col('Username'), F.col('Sexo'), F.col('Ocupação'), F.col('Total_Gasto ')).filter(F.col('Total_Gasto ') > 1000).show(truncate=False)"
      ],
      "metadata": {
        "id": "KOwEevnW0gwp",
        "colab": {
          "base_uri": "https://localhost:8080/"
        },
        "outputId": "3d4a8eb0-4225-4c02-96bc-e27b796052dc"
      },
      "execution_count": 8,
      "outputs": [
        {
          "output_type": "stream",
          "name": "stdout",
          "text": [
            "+-------------+---------+-----------------------------------+------------+\n",
            "|Username     |Sexo     |Ocupação                           |Total_Gasto |\n",
            "+-------------+---------+-----------------------------------+------------+\n",
            "|Neaude1978   |masculino|Analista de Inteligência de Mercado|1257.45     |\n",
            "|Kehonell     |feminino |Analista de RH                     |1021.77     |\n",
            "|Nicterims1993|masculino|Engenheiro de Dados                |2417.81     |\n",
            "|Onswis       |feminino |Engenheiro de Machine Learning     |1778.72     |\n",
            "|Majeappre    |feminino |Gerente de Tecnologia              |1034.74     |\n",
            "|Theired      |masculino|Analista de Inteligência de Mercado|1320.04     |\n",
            "|Botter       |feminino |Web Designer                       |3464.72     |\n",
            "+-------------+---------+-----------------------------------+------------+\n",
            "\n"
          ]
        }
      ]
    },
    {
      "cell_type": "code",
      "source": [
        "#Mostrar apenas Username, Sexo, Ocupação e Total Gasto apenas quando o Total for maior que 1000 e menor que 2000\n",
        "df2 = ( df.select(F.col('Username'), F.col('Sexo'), F.col('Ocupação'), F.col('Total_Gasto '))\n",
        "          .filter(F.col('Total_Gasto ') > 1000)\n",
        "          .filter(F.col('Total_Gasto ') < 2000)\n",
        ").show(truncate=False)"
      ],
      "metadata": {
        "id": "Nvlhhg-B0l8_",
        "colab": {
          "base_uri": "https://localhost:8080/"
        },
        "outputId": "4d349f6b-b8c6-4c9d-e92e-765125483a83"
      },
      "execution_count": 11,
      "outputs": [
        {
          "output_type": "stream",
          "name": "stdout",
          "text": [
            "+----------+---------+-----------------------------------+------------+\n",
            "|Username  |Sexo     |Ocupação                           |Total_Gasto |\n",
            "+----------+---------+-----------------------------------+------------+\n",
            "|Neaude1978|masculino|Analista de Inteligência de Mercado|1257.45     |\n",
            "|Kehonell  |feminino |Analista de RH                     |1021.77     |\n",
            "|Onswis    |feminino |Engenheiro de Machine Learning     |1778.72     |\n",
            "|Majeappre |feminino |Gerente de Tecnologia              |1034.74     |\n",
            "|Theired   |masculino|Analista de Inteligência de Mercado|1320.04     |\n",
            "+----------+---------+-----------------------------------+------------+\n",
            "\n"
          ]
        }
      ]
    },
    {
      "cell_type": "code",
      "source": [
        "#Mostrar apenas Username, Sexo, Ocupação e Total Gasto apenas quando o Total for maior que 1000 e menor que 2000\n",
        "df3 = ( df.select(F.col('Username'), F.col('Sexo'), F.col('Ocupação'), F.col('Total_Gasto '))\n",
        "          .filter((F.col('Total_Gasto ') > 1000) & (F.col('Total_Gasto ') < 2000))\n",
        ").show(truncate=False)"
      ],
      "metadata": {
        "id": "0t9MCMvO4zUf",
        "colab": {
          "base_uri": "https://localhost:8080/"
        },
        "outputId": "792cc075-c439-4e57-bbd0-314db17c5552"
      },
      "execution_count": 12,
      "outputs": [
        {
          "output_type": "stream",
          "name": "stdout",
          "text": [
            "+----------+---------+-----------------------------------+------------+\n",
            "|Username  |Sexo     |Ocupação                           |Total_Gasto |\n",
            "+----------+---------+-----------------------------------+------------+\n",
            "|Neaude1978|masculino|Analista de Inteligência de Mercado|1257.45     |\n",
            "|Kehonell  |feminino |Analista de RH                     |1021.77     |\n",
            "|Onswis    |feminino |Engenheiro de Machine Learning     |1778.72     |\n",
            "|Majeappre |feminino |Gerente de Tecnologia              |1034.74     |\n",
            "|Theired   |masculino|Analista de Inteligência de Mercado|1320.04     |\n",
            "+----------+---------+-----------------------------------+------------+\n",
            "\n"
          ]
        }
      ]
    },
    {
      "cell_type": "code",
      "source": [
        "#OUTRA FORMA DE SE APLICAR FILTROS\n",
        "df.where(F.col('Total_Gasto ') > 1000).show(truncate=False)"
      ],
      "metadata": {
        "id": "kR4gtTwK8VYz",
        "colab": {
          "base_uri": "https://localhost:8080/"
        },
        "outputId": "8f7b9528-3cb3-449c-c6b4-8bca1c4c4883"
      },
      "execution_count": 13,
      "outputs": [
        {
          "output_type": "stream",
          "name": "stdout",
          "text": [
            "+-------------+------------------------+---------+---------------+-----------------------------------+----------+------------+\n",
            "|Username     |Nome                    |Sexo     |Data_Nascimento|Ocupação                           |Assinatura|Total_Gasto |\n",
            "+-------------+------------------------+---------+---------------+-----------------------------------+----------+------------+\n",
            "|Neaude1978   |  Mr \\tbailey Glover    |masculino|01/12/1979     |Analista de Inteligência de Mercado|01/10/2021|1257.45     |\n",
            "|Kehonell     | Mrs Chloe \\tKirby      |feminino |28/06/1949     |Analista de RH                     |07/06/2020|1021.77     |\n",
            "|Nicterims1993|  Mrs \\tDaisy Anderson  |masculino|05/07/1985     |Engenheiro de Dados                |29/01/2021|2417.81     |\n",
            "|Onswis       |Ms Katie \\tMmtcalfe     |feminino |01/07/1983     |Engenheiro de Machine Learning     |27/02/2021|1778.72     |\n",
            "|Majeappre    |Mr Luca \\tVaughan       |feminino |03/01/1971     |Gerente de Tecnologia              |15/07/2022|1034.74     |\n",
            "|Theired      |Mr Henry \\tHaynes       |masculino|06/09/1951     |Analista de Inteligência de Mercado|23/12/2022|1320.04     |\n",
            "|Botter       |Mr Noah \\tWalton        |feminino |09/03/1991     |Web Designer                       |26/07/2022|3464.72     |\n",
            "+-------------+------------------------+---------+---------------+-----------------------------------+----------+------------+\n",
            "\n"
          ]
        }
      ]
    },
    {
      "cell_type": "code",
      "source": [
        "#Renomear uma coluna no Pyspark\n",
        "df2 = (df.withColumnRenamed('Ocupação', 'ocupacao')\n",
        "          .withColumnRenamed('Username', 'usuario')\n",
        "          .withColumnRenamed('Total_Gasto ', 'total_gasto')\n",
        "          .withColumnRenamed('Nome', 'nome')\n",
        "          .withColumnRenamed('Sexo', 'sexo')\n",
        "          .withColumnRenamed('Assinatura', 'assinatura')\n",
        "          .withColumnRenamed('Data_Nascimento', 'data_nascimento')\n",
        "\n",
        "\n",
        "\n",
        ")"
      ],
      "metadata": {
        "id": "mDceYhRO9twY"
      },
      "execution_count": 45,
      "outputs": []
    },
    {
      "cell_type": "code",
      "source": [
        "df2.show(truncate=False)"
      ],
      "metadata": {
        "colab": {
          "base_uri": "https://localhost:8080/"
        },
        "id": "YQL5vDieLyrV",
        "outputId": "58bdfe81-e500-4e2b-fc82-9f7f50cbc2e1"
      },
      "execution_count": 46,
      "outputs": [
        {
          "output_type": "stream",
          "name": "stdout",
          "text": [
            "+-------------+-------------------------+---------+---------------+-----------------------------------+----------+-----------+\n",
            "|usuario      |nome                     |sexo     |data_nascimento|ocupacao                           |assinatura|total_gasto|\n",
            "+-------------+-------------------------+---------+---------------+-----------------------------------+----------+-----------+\n",
            "|Neaude1978   |  Mr \\tbailey Glover     |masculino|01/12/1979     |Analista de Inteligência de Mercado|01/10/2021|1257.45    |\n",
            "|Maress39     |Mrs  \\t isabella   Fowler|feminino |04/08/1960     |Arquiteto de Dados                 |24/03/2020|771.99     |\n",
            "|Kehonell     | Mrs Chloe \\tKirby       |feminino |28/06/1949     |Analista de RH                     |07/06/2020|1021.77    |\n",
            "|Thimpay      | Mrs louise \\tClark      |feminino |07/01/1995     |Arquiteto de Dados                 |03/11/2020|234.76     |\n",
            "|Giall1985    |Mr Harrison \\t Bowen     |feminino |04/04/1987     |Engenheiro de Dados                |25/03/2020|628.07     |\n",
            "|Neave1959    |Mrs anna \\t     Sharp    |feminino |02/02/1970     |Engenheiro de Dados                |18/09/2020|140.04     |\n",
            "|Nicterims1993|  Mrs \\tDaisy Anderson   |masculino|05/07/1985     |Engenheiro de Dados                |29/01/2021|2417.81    |\n",
            "|Fouldlairity |Ms zoe \\tPeacock         |masculino|03/06/1964     |Analista Financeiro                |04/12/2020|51.95      |\n",
            "|Ancomettiody | Mrs Libby \\tWilliams    |feminino |04/09/1974     |Estatístico                        |21/11/2020|130.73     |\n",
            "|Onswis       |Ms Katie \\tMmtcalfe      |feminino |01/07/1983     |Engenheiro de Machine Learning     |27/02/2021|1778.72    |\n",
            "|Majeappre    |Mr Luca \\tVaughan        |feminino |03/01/1971     |Gerente de Tecnologia              |15/07/2022|1034.74    |\n",
            "|Theired      |Mr Henry \\tHaynes        |masculino|06/09/1951     |Analista de Inteligência de Mercado|23/12/2022|1320.04    |\n",
            "|Botter       |Mr Noah \\tWalton         |feminino |09/03/1991     |Web Designer                       |26/07/2022|3464.72    |\n",
            "+-------------+-------------------------+---------+---------------+-----------------------------------+----------+-----------+\n",
            "\n"
          ]
        }
      ]
    },
    {
      "cell_type": "code",
      "source": [
        "#FILTRAR POR OCUPAÇÃO QUE COMECE COM ANALISTA\n",
        "df2.filter('ocupacao like \"Analista%\"').show(truncate=False)"
      ],
      "metadata": {
        "id": "oeFL1TCX9Ai8",
        "colab": {
          "base_uri": "https://localhost:8080/"
        },
        "outputId": "c7562424-2b63-4386-ea4f-7b02e0130c54"
      },
      "execution_count": 47,
      "outputs": [
        {
          "output_type": "stream",
          "name": "stdout",
          "text": [
            "+------------+----------------------+---------+---------------+-----------------------------------+----------+-----------+\n",
            "|usuario     |nome                  |sexo     |data_nascimento|ocupacao                           |assinatura|total_gasto|\n",
            "+------------+----------------------+---------+---------------+-----------------------------------+----------+-----------+\n",
            "|Neaude1978  |  Mr \\tbailey Glover  |masculino|01/12/1979     |Analista de Inteligência de Mercado|01/10/2021|1257.45    |\n",
            "|Kehonell    | Mrs Chloe \\tKirby    |feminino |28/06/1949     |Analista de RH                     |07/06/2020|1021.77    |\n",
            "|Fouldlairity|Ms zoe \\tPeacock      |masculino|03/06/1964     |Analista Financeiro                |04/12/2020|51.95      |\n",
            "|Theired     |Mr Henry \\tHaynes     |masculino|06/09/1951     |Analista de Inteligência de Mercado|23/12/2022|1320.04    |\n",
            "+------------+----------------------+---------+---------------+-----------------------------------+----------+-----------+\n",
            "\n"
          ]
        }
      ]
    },
    {
      "cell_type": "code",
      "source": [
        "#BUSCA POR OCUPAÇÃO QUE COMECE COM A PALAVRA Analista\n",
        "df2.filter(F.col('ocupacao').startswith('Analista')).show(truncate=False)"
      ],
      "metadata": {
        "id": "DWpkqqQi_DTP",
        "colab": {
          "base_uri": "https://localhost:8080/"
        },
        "outputId": "27d29004-bee6-49c4-92e6-5f3b95378d53"
      },
      "execution_count": 48,
      "outputs": [
        {
          "output_type": "stream",
          "name": "stdout",
          "text": [
            "+------------+----------------------+---------+---------------+-----------------------------------+----------+-----------+\n",
            "|usuario     |nome                  |sexo     |data_nascimento|ocupacao                           |assinatura|total_gasto|\n",
            "+------------+----------------------+---------+---------------+-----------------------------------+----------+-----------+\n",
            "|Neaude1978  |  Mr \\tbailey Glover  |masculino|01/12/1979     |Analista de Inteligência de Mercado|01/10/2021|1257.45    |\n",
            "|Kehonell    | Mrs Chloe \\tKirby    |feminino |28/06/1949     |Analista de RH                     |07/06/2020|1021.77    |\n",
            "|Fouldlairity|Ms zoe \\tPeacock      |masculino|03/06/1964     |Analista Financeiro                |04/12/2020|51.95      |\n",
            "|Theired     |Mr Henry \\tHaynes     |masculino|06/09/1951     |Analista de Inteligência de Mercado|23/12/2022|1320.04    |\n",
            "+------------+----------------------+---------+---------------+-----------------------------------+----------+-----------+\n",
            "\n"
          ]
        }
      ]
    },
    {
      "cell_type": "code",
      "source": [
        "#BUSCA POR OCUPAÇÃO QUE TERMINE COM A PALAVRA Mercado\n",
        "df2.filter(F.col('ocupacao').endswith('Mercado')).show(truncate=False)"
      ],
      "metadata": {
        "id": "cJVhYC8dAP-D",
        "colab": {
          "base_uri": "https://localhost:8080/"
        },
        "outputId": "0a0eb68c-3cdd-499f-b5f5-fb5fac40f9bd"
      },
      "execution_count": 49,
      "outputs": [
        {
          "output_type": "stream",
          "name": "stdout",
          "text": [
            "+----------+----------------------+---------+---------------+-----------------------------------+----------+-----------+\n",
            "|usuario   |nome                  |sexo     |data_nascimento|ocupacao                           |assinatura|total_gasto|\n",
            "+----------+----------------------+---------+---------------+-----------------------------------+----------+-----------+\n",
            "|Neaude1978|  Mr \\tbailey Glover  |masculino|01/12/1979     |Analista de Inteligência de Mercado|01/10/2021|1257.45    |\n",
            "|Theired   |Mr Henry \\tHaynes     |masculino|06/09/1951     |Analista de Inteligência de Mercado|23/12/2022|1320.04    |\n",
            "+----------+----------------------+---------+---------------+-----------------------------------+----------+-----------+\n",
            "\n"
          ]
        }
      ]
    },
    {
      "cell_type": "code",
      "source": [
        "#BUSCA POR OCUPAÇÃO QUE TENHA A PALAVRA Inteligência\n",
        "df2.filter(F.col('ocupacao').contains('Inteligência')).show(truncate=False)"
      ],
      "metadata": {
        "id": "2HD8xG3AAsFk",
        "colab": {
          "base_uri": "https://localhost:8080/"
        },
        "outputId": "702a3011-dba1-4a06-fc7d-844d5b46758a"
      },
      "execution_count": 50,
      "outputs": [
        {
          "output_type": "stream",
          "name": "stdout",
          "text": [
            "+----------+----------------------+---------+---------------+-----------------------------------+----------+-----------+\n",
            "|usuario   |nome                  |sexo     |data_nascimento|ocupacao                           |assinatura|total_gasto|\n",
            "+----------+----------------------+---------+---------------+-----------------------------------+----------+-----------+\n",
            "|Neaude1978|  Mr \\tbailey Glover  |masculino|01/12/1979     |Analista de Inteligência de Mercado|01/10/2021|1257.45    |\n",
            "|Theired   |Mr Henry \\tHaynes     |masculino|06/09/1951     |Analista de Inteligência de Mercado|23/12/2022|1320.04    |\n",
            "+----------+----------------------+---------+---------------+-----------------------------------+----------+-----------+\n",
            "\n"
          ]
        }
      ]
    },
    {
      "cell_type": "code",
      "source": [
        "#BUSCA POR OCUPAÇÃO UTILIZANDO O LIKE\n",
        "df2.filter(F.col('ocupacao').like('Analista%')).show(truncate=False)"
      ],
      "metadata": {
        "id": "IrMcs0N6A66t",
        "colab": {
          "base_uri": "https://localhost:8080/"
        },
        "outputId": "f0d87d58-0e4d-49a6-8a75-3cc65cdfbcdd"
      },
      "execution_count": 51,
      "outputs": [
        {
          "output_type": "stream",
          "name": "stdout",
          "text": [
            "+------------+----------------------+---------+---------------+-----------------------------------+----------+-----------+\n",
            "|usuario     |nome                  |sexo     |data_nascimento|ocupacao                           |assinatura|total_gasto|\n",
            "+------------+----------------------+---------+---------------+-----------------------------------+----------+-----------+\n",
            "|Neaude1978  |  Mr \\tbailey Glover  |masculino|01/12/1979     |Analista de Inteligência de Mercado|01/10/2021|1257.45    |\n",
            "|Kehonell    | Mrs Chloe \\tKirby    |feminino |28/06/1949     |Analista de RH                     |07/06/2020|1021.77    |\n",
            "|Fouldlairity|Ms zoe \\tPeacock      |masculino|03/06/1964     |Analista Financeiro                |04/12/2020|51.95      |\n",
            "|Theired     |Mr Henry \\tHaynes     |masculino|06/09/1951     |Analista de Inteligência de Mercado|23/12/2022|1320.04    |\n",
            "+------------+----------------------+---------+---------------+-----------------------------------+----------+-----------+\n",
            "\n"
          ]
        }
      ]
    },
    {
      "cell_type": "code",
      "source": [
        "#VERIFICAR QUANTIDADE DE LINHAS DO DATAFRAME\n",
        "df2.count()"
      ],
      "metadata": {
        "id": "j5qD0MDrB06S",
        "colab": {
          "base_uri": "https://localhost:8080/"
        },
        "outputId": "ed5dbe9a-8c03-435c-d740-a66b8fa518dd"
      },
      "execution_count": 52,
      "outputs": [
        {
          "output_type": "execute_result",
          "data": {
            "text/plain": [
              "13"
            ]
          },
          "metadata": {},
          "execution_count": 52
        }
      ]
    },
    {
      "cell_type": "code",
      "source": [
        "#RETORNAR TODAS AS OCUPAÇÕES EXISTENTES, CADA UMA APARACENDO UMA ÚNICA VEZ\n",
        "df2.select('ocupacao').distinct().show(truncate=False)"
      ],
      "metadata": {
        "id": "amJFNr6diHhm",
        "colab": {
          "base_uri": "https://localhost:8080/"
        },
        "outputId": "1e0e84c7-789f-4f2b-ecb5-550acd4045de"
      },
      "execution_count": 56,
      "outputs": [
        {
          "output_type": "stream",
          "name": "stdout",
          "text": [
            "+-----------------------------------+\n",
            "|ocupacao                           |\n",
            "+-----------------------------------+\n",
            "|Engenheiro de Machine Learning     |\n",
            "|Arquiteto de Dados                 |\n",
            "|Estatístico                        |\n",
            "|Analista de RH                     |\n",
            "|Engenheiro de Dados                |\n",
            "|Analista Financeiro                |\n",
            "|Gerente de Tecnologia              |\n",
            "|Web Designer                       |\n",
            "|Analista de Inteligência de Mercado|\n",
            "+-----------------------------------+\n",
            "\n"
          ]
        }
      ]
    },
    {
      "cell_type": "code",
      "source": [
        "#Criar uma nova coluna contendo 10% sobre o valor total gasto\n",
        "df3 = df2.withColumn('total_de_desconto', F.round(F.col('total_gasto') * 0.1, 2))"
      ],
      "metadata": {
        "id": "4WFD_qSUCVc0"
      },
      "execution_count": 53,
      "outputs": []
    },
    {
      "cell_type": "code",
      "source": [
        "#Criar uma nova coluna contendo o valor total gasto - o desconto\n",
        "df3.withColumn('total_com_desconto', F.round(F.col('total_gasto') - F.col('total_de_desconto'), 2)).show()"
      ],
      "metadata": {
        "id": "8qNvx6sZCvpf",
        "colab": {
          "base_uri": "https://localhost:8080/"
        },
        "outputId": "99ab6b9b-cf28-48c0-9bcf-4ebc71b57aa8"
      },
      "execution_count": null,
      "outputs": [
        {
          "output_type": "stream",
          "name": "stdout",
          "text": [
            "+-------------+--------------------+---------+---------------+--------------------+----------+-----------+-----------------+------------------+\n",
            "|      usuario|                Nome|     Sexo|Data_Nascimento|            ocupacao|Assinatura|total_gasto|total_de_desconto|total_com_desconto|\n",
            "+-------------+--------------------+---------+---------------+--------------------+----------+-----------+-----------------+------------------+\n",
            "|   Neaude1978|  Mr \\tbailey Glo...|masculino|     01/12/1979|Analista de Intel...|01/10/2021|    1257.45|           125.75|            1131.7|\n",
            "|     Maress39|Mrs  \\t isabella ...| feminino|     04/08/1960|  Arquiteto de Dados|24/03/2020|     771.99|             77.2|            694.79|\n",
            "|     Kehonell| Mrs Chloe \\tKirby  | feminino|     28/06/1949|      Analista de RH|07/06/2020|    1021.77|           102.18|            919.59|\n",
            "|      Thimpay| Mrs louise \\tCla...| feminino|     07/01/1995|  Arquiteto de Dados|03/11/2020|     234.76|            23.48|            211.28|\n",
            "|    Giall1985|Mr Harrison \\t Bowen| feminino|     04/04/1987| Engenheiro de Dados|25/03/2020|     628.07|            62.81|            565.26|\n",
            "|    Neave1959|Mrs anna \\t     S...| feminino|     02/02/1970| Engenheiro de Dados|18/09/2020|     140.04|             14.0|            126.04|\n",
            "|Nicterims1993|  Mrs \\tDaisy And...|masculino|     05/07/1985| Engenheiro de Dados|29/01/2021|    2417.81|           241.78|           2176.03|\n",
            "| Fouldlairity|    Ms zoe \\tPeacock|masculino|     03/06/1964| Analista Financeiro|04/12/2020|      51.95|              5.2|             46.75|\n",
            "| Ancomettiody| Mrs Libby \\tWill...| feminino|     04/09/1974|         Estatístico|21/11/2020|     130.73|            13.07|            117.66|\n",
            "|       Onswis| Ms Katie \\tMmtcalfe| feminino|     01/07/1983|Engenheiro de Mac...|27/02/2021|    1778.72|           177.87|           1600.85|\n",
            "|    Majeappre|   Mr Luca \\tVaughan| feminino|     03/01/1971|Gerente de Tecnol...|15/07/2022|    1034.74|           103.47|            931.27|\n",
            "|      Theired|   Mr Henry \\tHaynes|masculino|     06/09/1951|Analista de Intel...|23/12/2022|    1320.04|            132.0|           1188.04|\n",
            "|       Botter|    Mr Noah \\tWalton| feminino|     09/03/1991|        Web Designer|26/07/2022|    3464.72|           346.47|           3118.25|\n",
            "+-------------+--------------------+---------+---------------+--------------------+----------+-----------+-----------------+------------------+\n",
            "\n"
          ]
        }
      ]
    },
    {
      "cell_type": "code",
      "source": [
        "#Criar uma nova coluna contendo o valor total - 10% de desconto sobre o valor total gasto\n",
        "df4 = df2.withColumn('total_com_desconto', F.round(F.col('total_gasto') - F.col('total_gasto') * 0.1, 2))"
      ],
      "metadata": {
        "id": "mhpyIjjpC0tR"
      },
      "execution_count": 54,
      "outputs": []
    },
    {
      "cell_type": "code",
      "source": [
        "df4.show(truncate=False)"
      ],
      "metadata": {
        "id": "ZtkdP_h6OGtH",
        "colab": {
          "base_uri": "https://localhost:8080/"
        },
        "outputId": "39b100e3-89da-4d1a-ed7b-239a1b606a6b"
      },
      "execution_count": 55,
      "outputs": [
        {
          "output_type": "stream",
          "name": "stdout",
          "text": [
            "+-------------+-------------------------+---------+---------------+-----------------------------------+----------+-----------+------------------+\n",
            "|usuario      |nome                     |sexo     |data_nascimento|ocupacao                           |assinatura|total_gasto|total_com_desconto|\n",
            "+-------------+-------------------------+---------+---------------+-----------------------------------+----------+-----------+------------------+\n",
            "|Neaude1978   |  Mr \\tbailey Glover     |masculino|01/12/1979     |Analista de Inteligência de Mercado|01/10/2021|1257.45    |1131.71           |\n",
            "|Maress39     |Mrs  \\t isabella   Fowler|feminino |04/08/1960     |Arquiteto de Dados                 |24/03/2020|771.99     |694.79            |\n",
            "|Kehonell     | Mrs Chloe \\tKirby       |feminino |28/06/1949     |Analista de RH                     |07/06/2020|1021.77    |919.59            |\n",
            "|Thimpay      | Mrs louise \\tClark      |feminino |07/01/1995     |Arquiteto de Dados                 |03/11/2020|234.76     |211.28            |\n",
            "|Giall1985    |Mr Harrison \\t Bowen     |feminino |04/04/1987     |Engenheiro de Dados                |25/03/2020|628.07     |565.26            |\n",
            "|Neave1959    |Mrs anna \\t     Sharp    |feminino |02/02/1970     |Engenheiro de Dados                |18/09/2020|140.04     |126.04            |\n",
            "|Nicterims1993|  Mrs \\tDaisy Anderson   |masculino|05/07/1985     |Engenheiro de Dados                |29/01/2021|2417.81    |2176.03           |\n",
            "|Fouldlairity |Ms zoe \\tPeacock         |masculino|03/06/1964     |Analista Financeiro                |04/12/2020|51.95      |46.76             |\n",
            "|Ancomettiody | Mrs Libby \\tWilliams    |feminino |04/09/1974     |Estatístico                        |21/11/2020|130.73     |117.66            |\n",
            "|Onswis       |Ms Katie \\tMmtcalfe      |feminino |01/07/1983     |Engenheiro de Machine Learning     |27/02/2021|1778.72    |1600.85           |\n",
            "|Majeappre    |Mr Luca \\tVaughan        |feminino |03/01/1971     |Gerente de Tecnologia              |15/07/2022|1034.74    |931.27            |\n",
            "|Theired      |Mr Henry \\tHaynes        |masculino|06/09/1951     |Analista de Inteligência de Mercado|23/12/2022|1320.04    |1188.04           |\n",
            "|Botter       |Mr Noah \\tWalton         |feminino |09/03/1991     |Web Designer                       |26/07/2022|3464.72    |3118.25           |\n",
            "+-------------+-------------------------+---------+---------------+-----------------------------------+----------+-----------+------------------+\n",
            "\n"
          ]
        }
      ]
    },
    {
      "cell_type": "code",
      "source": [
        "#RETORNAR usuário, data de nascimento e ocupação ordenado pelo usuário em ordem crescente (A-Z)\n",
        "df4.orderBy(F.col('usuario').asc()).show()\n",
        "df4.orderBy(F.col('nome').asc(), F.col('data_nascimento').asc(), F.col('total_gasto').desc())"
      ],
      "metadata": {
        "id": "wWUT5AmhkhqL",
        "colab": {
          "base_uri": "https://localhost:8080/"
        },
        "outputId": "0ff9136a-cb28-4963-85e7-6e3562f12123"
      },
      "execution_count": 58,
      "outputs": [
        {
          "output_type": "stream",
          "name": "stdout",
          "text": [
            "+-------------+--------------------+---------+---------------+--------------------+----------+-----------+------------------+\n",
            "|      usuario|                nome|     sexo|data_nascimento|            ocupacao|assinatura|total_gasto|total_com_desconto|\n",
            "+-------------+--------------------+---------+---------------+--------------------+----------+-----------+------------------+\n",
            "| Ancomettiody| Mrs Libby \\tWill...| feminino|     04/09/1974|         Estatístico|21/11/2020|     130.73|            117.66|\n",
            "|       Botter|    Mr Noah \\tWalton| feminino|     09/03/1991|        Web Designer|26/07/2022|    3464.72|           3118.25|\n",
            "| Fouldlairity|    Ms zoe \\tPeacock|masculino|     03/06/1964| Analista Financeiro|04/12/2020|      51.95|             46.76|\n",
            "|    Giall1985|Mr Harrison \\t Bowen| feminino|     04/04/1987| Engenheiro de Dados|25/03/2020|     628.07|            565.26|\n",
            "|     Kehonell| Mrs Chloe \\tKirby  | feminino|     28/06/1949|      Analista de RH|07/06/2020|    1021.77|            919.59|\n",
            "|    Majeappre|   Mr Luca \\tVaughan| feminino|     03/01/1971|Gerente de Tecnol...|15/07/2022|    1034.74|            931.27|\n",
            "|     Maress39|Mrs  \\t isabella ...| feminino|     04/08/1960|  Arquiteto de Dados|24/03/2020|     771.99|            694.79|\n",
            "|   Neaude1978|  Mr \\tbailey Glo...|masculino|     01/12/1979|Analista de Intel...|01/10/2021|    1257.45|           1131.71|\n",
            "|    Neave1959|Mrs anna \\t     S...| feminino|     02/02/1970| Engenheiro de Dados|18/09/2020|     140.04|            126.04|\n",
            "|Nicterims1993|  Mrs \\tDaisy And...|masculino|     05/07/1985| Engenheiro de Dados|29/01/2021|    2417.81|           2176.03|\n",
            "|       Onswis| Ms Katie \\tMmtcalfe| feminino|     01/07/1983|Engenheiro de Mac...|27/02/2021|    1778.72|           1600.85|\n",
            "|      Theired|   Mr Henry \\tHaynes|masculino|     06/09/1951|Analista de Intel...|23/12/2022|    1320.04|           1188.04|\n",
            "|      Thimpay| Mrs louise \\tCla...| feminino|     07/01/1995|  Arquiteto de Dados|03/11/2020|     234.76|            211.28|\n",
            "+-------------+--------------------+---------+---------------+--------------------+----------+-----------+------------------+\n",
            "\n"
          ]
        },
        {
          "output_type": "execute_result",
          "data": {
            "text/plain": [
              "DataFrame[usuario: string, nome: string, sexo: string, data_nascimento: string, ocupacao: string, assinatura: string, total_gasto: double, total_com_desconto: double]"
            ]
          },
          "metadata": {},
          "execution_count": 58
        }
      ]
    },
    {
      "cell_type": "code",
      "source": [
        "#RETORNAR usuário, data de nascimento e ocupação ordenado pelo usuário em ordem crescente (A-Z)\n",
        "df4.select(F.col('usuario'), F.col('data_nascimento'), F.col('ocupacao')).orderBy(F.col('usuario').asc()).show(truncate=False)"
      ],
      "metadata": {
        "id": "g44wjl_aoaNI",
        "colab": {
          "base_uri": "https://localhost:8080/"
        },
        "outputId": "27badf25-07ba-4bec-84b9-f3b8e5ccdef9"
      },
      "execution_count": 60,
      "outputs": [
        {
          "output_type": "stream",
          "name": "stdout",
          "text": [
            "+-------------+---------------+-----------------------------------+\n",
            "|usuario      |data_nascimento|ocupacao                           |\n",
            "+-------------+---------------+-----------------------------------+\n",
            "|Ancomettiody |04/09/1974     |Estatístico                        |\n",
            "|Botter       |09/03/1991     |Web Designer                       |\n",
            "|Fouldlairity |03/06/1964     |Analista Financeiro                |\n",
            "|Giall1985    |04/04/1987     |Engenheiro de Dados                |\n",
            "|Kehonell     |28/06/1949     |Analista de RH                     |\n",
            "|Majeappre    |03/01/1971     |Gerente de Tecnologia              |\n",
            "|Maress39     |04/08/1960     |Arquiteto de Dados                 |\n",
            "|Neaude1978   |01/12/1979     |Analista de Inteligência de Mercado|\n",
            "|Neave1959    |02/02/1970     |Engenheiro de Dados                |\n",
            "|Nicterims1993|05/07/1985     |Engenheiro de Dados                |\n",
            "|Onswis       |01/07/1983     |Engenheiro de Machine Learning     |\n",
            "|Theired      |06/09/1951     |Analista de Inteligência de Mercado|\n",
            "|Thimpay      |07/01/1995     |Arquiteto de Dados                 |\n",
            "+-------------+---------------+-----------------------------------+\n",
            "\n"
          ]
        }
      ]
    },
    {
      "cell_type": "code",
      "source": [
        "#Retornar nome, ocupação e total gasto ordenado pelo total gasto do menor para o maior\n",
        "df4.select(F.col('nome'), F.col('ocupacao'), F.col('total_gasto')).orderBy(F.col('total_gasto')).show(truncate=False)"
      ],
      "metadata": {
        "id": "5p8fGCDMkuev",
        "colab": {
          "base_uri": "https://localhost:8080/"
        },
        "outputId": "eca7b457-01fa-4181-cf3a-f52542c7ae15"
      },
      "execution_count": 62,
      "outputs": [
        {
          "output_type": "stream",
          "name": "stdout",
          "text": [
            "+-------------------------+-----------------------------------+-----------+\n",
            "|nome                     |ocupacao                           |total_gasto|\n",
            "+-------------------------+-----------------------------------+-----------+\n",
            "|Ms zoe \\tPeacock         |Analista Financeiro                |51.95      |\n",
            "| Mrs Libby \\tWilliams    |Estatístico                        |130.73     |\n",
            "|Mrs anna \\t     Sharp    |Engenheiro de Dados                |140.04     |\n",
            "| Mrs louise \\tClark      |Arquiteto de Dados                 |234.76     |\n",
            "|Mr Harrison \\t Bowen     |Engenheiro de Dados                |628.07     |\n",
            "|Mrs  \\t isabella   Fowler|Arquiteto de Dados                 |771.99     |\n",
            "| Mrs Chloe \\tKirby       |Analista de RH                     |1021.77    |\n",
            "|Mr Luca \\tVaughan        |Gerente de Tecnologia              |1034.74    |\n",
            "|  Mr \\tbailey Glover     |Analista de Inteligência de Mercado|1257.45    |\n",
            "|Mr Henry \\tHaynes        |Analista de Inteligência de Mercado|1320.04    |\n",
            "|Ms Katie \\tMmtcalfe      |Engenheiro de Machine Learning     |1778.72    |\n",
            "|  Mrs \\tDaisy Anderson   |Engenheiro de Dados                |2417.81    |\n",
            "|Mr Noah \\tWalton         |Web Designer                       |3464.72    |\n",
            "+-------------------------+-----------------------------------+-----------+\n",
            "\n"
          ]
        }
      ]
    },
    {
      "cell_type": "code",
      "source": [
        "#Retornar nome, ocupação e total gasto ordenado pelo total gasto do maior para o menor\n",
        "df4.orderBy(F.col('usuario').desc()).show(truncate=False)\n",
        "\n",
        "#PODEMOS UTILIZAR PARA A ORDENAÇÃO O COMANDO SORT, QUE TERÁ O MESMO RESULTADO\n",
        "df4.sort(F.col('usuario').desc()).show(truncate=False)"
      ],
      "metadata": {
        "id": "uH9GcEqDk3mE",
        "colab": {
          "base_uri": "https://localhost:8080/"
        },
        "outputId": "75897798-4b38-4136-89de-36457a596ea5"
      },
      "execution_count": 64,
      "outputs": [
        {
          "output_type": "stream",
          "name": "stdout",
          "text": [
            "+-------------+-------------------------+---------+---------------+-----------------------------------+----------+-----------+------------------+\n",
            "|usuario      |nome                     |sexo     |data_nascimento|ocupacao                           |assinatura|total_gasto|total_com_desconto|\n",
            "+-------------+-------------------------+---------+---------------+-----------------------------------+----------+-----------+------------------+\n",
            "|Thimpay      | Mrs louise \\tClark      |feminino |07/01/1995     |Arquiteto de Dados                 |03/11/2020|234.76     |211.28            |\n",
            "|Theired      |Mr Henry \\tHaynes        |masculino|06/09/1951     |Analista de Inteligência de Mercado|23/12/2022|1320.04    |1188.04           |\n",
            "|Onswis       |Ms Katie \\tMmtcalfe      |feminino |01/07/1983     |Engenheiro de Machine Learning     |27/02/2021|1778.72    |1600.85           |\n",
            "|Nicterims1993|  Mrs \\tDaisy Anderson   |masculino|05/07/1985     |Engenheiro de Dados                |29/01/2021|2417.81    |2176.03           |\n",
            "|Neave1959    |Mrs anna \\t     Sharp    |feminino |02/02/1970     |Engenheiro de Dados                |18/09/2020|140.04     |126.04            |\n",
            "|Neaude1978   |  Mr \\tbailey Glover     |masculino|01/12/1979     |Analista de Inteligência de Mercado|01/10/2021|1257.45    |1131.71           |\n",
            "|Maress39     |Mrs  \\t isabella   Fowler|feminino |04/08/1960     |Arquiteto de Dados                 |24/03/2020|771.99     |694.79            |\n",
            "|Majeappre    |Mr Luca \\tVaughan        |feminino |03/01/1971     |Gerente de Tecnologia              |15/07/2022|1034.74    |931.27            |\n",
            "|Kehonell     | Mrs Chloe \\tKirby       |feminino |28/06/1949     |Analista de RH                     |07/06/2020|1021.77    |919.59            |\n",
            "|Giall1985    |Mr Harrison \\t Bowen     |feminino |04/04/1987     |Engenheiro de Dados                |25/03/2020|628.07     |565.26            |\n",
            "|Fouldlairity |Ms zoe \\tPeacock         |masculino|03/06/1964     |Analista Financeiro                |04/12/2020|51.95      |46.76             |\n",
            "|Botter       |Mr Noah \\tWalton         |feminino |09/03/1991     |Web Designer                       |26/07/2022|3464.72    |3118.25           |\n",
            "|Ancomettiody | Mrs Libby \\tWilliams    |feminino |04/09/1974     |Estatístico                        |21/11/2020|130.73     |117.66            |\n",
            "+-------------+-------------------------+---------+---------------+-----------------------------------+----------+-----------+------------------+\n",
            "\n",
            "+-------------+-------------------------+---------+---------------+-----------------------------------+----------+-----------+------------------+\n",
            "|usuario      |nome                     |sexo     |data_nascimento|ocupacao                           |assinatura|total_gasto|total_com_desconto|\n",
            "+-------------+-------------------------+---------+---------------+-----------------------------------+----------+-----------+------------------+\n",
            "|Thimpay      | Mrs louise \\tClark      |feminino |07/01/1995     |Arquiteto de Dados                 |03/11/2020|234.76     |211.28            |\n",
            "|Theired      |Mr Henry \\tHaynes        |masculino|06/09/1951     |Analista de Inteligência de Mercado|23/12/2022|1320.04    |1188.04           |\n",
            "|Onswis       |Ms Katie \\tMmtcalfe      |feminino |01/07/1983     |Engenheiro de Machine Learning     |27/02/2021|1778.72    |1600.85           |\n",
            "|Nicterims1993|  Mrs \\tDaisy Anderson   |masculino|05/07/1985     |Engenheiro de Dados                |29/01/2021|2417.81    |2176.03           |\n",
            "|Neave1959    |Mrs anna \\t     Sharp    |feminino |02/02/1970     |Engenheiro de Dados                |18/09/2020|140.04     |126.04            |\n",
            "|Neaude1978   |  Mr \\tbailey Glover     |masculino|01/12/1979     |Analista de Inteligência de Mercado|01/10/2021|1257.45    |1131.71           |\n",
            "|Maress39     |Mrs  \\t isabella   Fowler|feminino |04/08/1960     |Arquiteto de Dados                 |24/03/2020|771.99     |694.79            |\n",
            "|Majeappre    |Mr Luca \\tVaughan        |feminino |03/01/1971     |Gerente de Tecnologia              |15/07/2022|1034.74    |931.27            |\n",
            "|Kehonell     | Mrs Chloe \\tKirby       |feminino |28/06/1949     |Analista de RH                     |07/06/2020|1021.77    |919.59            |\n",
            "|Giall1985    |Mr Harrison \\t Bowen     |feminino |04/04/1987     |Engenheiro de Dados                |25/03/2020|628.07     |565.26            |\n",
            "|Fouldlairity |Ms zoe \\tPeacock         |masculino|03/06/1964     |Analista Financeiro                |04/12/2020|51.95      |46.76             |\n",
            "|Botter       |Mr Noah \\tWalton         |feminino |09/03/1991     |Web Designer                       |26/07/2022|3464.72    |3118.25           |\n",
            "|Ancomettiody | Mrs Libby \\tWilliams    |feminino |04/09/1974     |Estatístico                        |21/11/2020|130.73     |117.66            |\n",
            "+-------------+-------------------------+---------+---------------+-----------------------------------+----------+-----------+------------------+\n",
            "\n"
          ]
        }
      ]
    },
    {
      "cell_type": "code",
      "source": [
        "df4.show(truncate=False)"
      ],
      "metadata": {
        "id": "iHMK-vIwueWx",
        "colab": {
          "base_uri": "https://localhost:8080/"
        },
        "outputId": "142cffd4-56a8-4d16-d762-da94cca9a9d3"
      },
      "execution_count": 66,
      "outputs": [
        {
          "output_type": "stream",
          "name": "stdout",
          "text": [
            "+-------------+-------------------------+---------+---------------+-----------------------------------+----------+-----------+------------------+\n",
            "|usuario      |nome                     |sexo     |data_nascimento|ocupacao                           |assinatura|total_gasto|total_com_desconto|\n",
            "+-------------+-------------------------+---------+---------------+-----------------------------------+----------+-----------+------------------+\n",
            "|Neaude1978   |  Mr \\tbailey Glover     |masculino|01/12/1979     |Analista de Inteligência de Mercado|01/10/2021|1257.45    |1131.71           |\n",
            "|Maress39     |Mrs  \\t isabella   Fowler|feminino |04/08/1960     |Arquiteto de Dados                 |24/03/2020|771.99     |694.79            |\n",
            "|Kehonell     | Mrs Chloe \\tKirby       |feminino |28/06/1949     |Analista de RH                     |07/06/2020|1021.77    |919.59            |\n",
            "|Thimpay      | Mrs louise \\tClark      |feminino |07/01/1995     |Arquiteto de Dados                 |03/11/2020|234.76     |211.28            |\n",
            "|Giall1985    |Mr Harrison \\t Bowen     |feminino |04/04/1987     |Engenheiro de Dados                |25/03/2020|628.07     |565.26            |\n",
            "|Neave1959    |Mrs anna \\t     Sharp    |feminino |02/02/1970     |Engenheiro de Dados                |18/09/2020|140.04     |126.04            |\n",
            "|Nicterims1993|  Mrs \\tDaisy Anderson   |masculino|05/07/1985     |Engenheiro de Dados                |29/01/2021|2417.81    |2176.03           |\n",
            "|Fouldlairity |Ms zoe \\tPeacock         |masculino|03/06/1964     |Analista Financeiro                |04/12/2020|51.95      |46.76             |\n",
            "|Ancomettiody | Mrs Libby \\tWilliams    |feminino |04/09/1974     |Estatístico                        |21/11/2020|130.73     |117.66            |\n",
            "|Onswis       |Ms Katie \\tMmtcalfe      |feminino |01/07/1983     |Engenheiro de Machine Learning     |27/02/2021|1778.72    |1600.85           |\n",
            "|Majeappre    |Mr Luca \\tVaughan        |feminino |03/01/1971     |Gerente de Tecnologia              |15/07/2022|1034.74    |931.27            |\n",
            "|Theired      |Mr Henry \\tHaynes        |masculino|06/09/1951     |Analista de Inteligência de Mercado|23/12/2022|1320.04    |1188.04           |\n",
            "|Botter       |Mr Noah \\tWalton         |feminino |09/03/1991     |Web Designer                       |26/07/2022|3464.72    |3118.25           |\n",
            "+-------------+-------------------------+---------+---------------+-----------------------------------+----------+-----------+------------------+\n",
            "\n"
          ]
        }
      ]
    },
    {
      "cell_type": "code",
      "source": [
        "#RETORNAR A QUANTIDADE DE PESSOAS POR SEXO\n",
        "df4.filter(F.col('sexo').contains('feminino')).count()"
      ],
      "metadata": {
        "id": "cck7zmCiuhNw",
        "colab": {
          "base_uri": "https://localhost:8080/"
        },
        "outputId": "89ee57a7-369b-4c9b-e623-5e45de147485"
      },
      "execution_count": 71,
      "outputs": [
        {
          "output_type": "execute_result",
          "data": {
            "text/plain": [
              "9"
            ]
          },
          "metadata": {},
          "execution_count": 71
        }
      ]
    },
    {
      "cell_type": "code",
      "source": [
        "#RETORNAR A QUANTIDADE DE PESSOAS POR SEXO\n",
        "df4.filter(F.col('sexo').contains('masculino')).count()"
      ],
      "metadata": {
        "colab": {
          "base_uri": "https://localhost:8080/"
        },
        "id": "srLNJqGqRYgU",
        "outputId": "b4c44ac1-c5e0-4905-e90c-b80ac612e823"
      },
      "execution_count": 69,
      "outputs": [
        {
          "output_type": "execute_result",
          "data": {
            "text/plain": [
              "4"
            ]
          },
          "metadata": {},
          "execution_count": 69
        }
      ]
    },
    {
      "cell_type": "code",
      "source": [
        "#RETORNAR A QUANTIDADE DE PESSOAS POR SEXO\n",
        "df4.groupBy('sexo').count().show()"
      ],
      "metadata": {
        "id": "yUT0FUTowijP",
        "colab": {
          "base_uri": "https://localhost:8080/"
        },
        "outputId": "a642284e-4c51-42d0-f49f-31988597688c"
      },
      "execution_count": 72,
      "outputs": [
        {
          "output_type": "stream",
          "name": "stdout",
          "text": [
            "+---------+-----+\n",
            "|     sexo|count|\n",
            "+---------+-----+\n",
            "|masculino|    4|\n",
            "| feminino|    9|\n",
            "+---------+-----+\n",
            "\n"
          ]
        }
      ]
    },
    {
      "cell_type": "code",
      "source": [
        "#RETORNAR A QUANTIDADE DE PESSOAS POR OCUPAÇÃO\n",
        "df4.groupBy('ocupacao').count().select('ocupacao', F.col('count').alias('quantidade')).show(truncate=False)"
      ],
      "metadata": {
        "id": "xVh5WtcSuuSg",
        "colab": {
          "base_uri": "https://localhost:8080/"
        },
        "outputId": "afe99106-3459-457a-bea9-c40839998283"
      },
      "execution_count": 76,
      "outputs": [
        {
          "output_type": "stream",
          "name": "stdout",
          "text": [
            "+-----------------------------------+----------+\n",
            "|ocupacao                           |quantidade|\n",
            "+-----------------------------------+----------+\n",
            "|Engenheiro de Machine Learning     |1         |\n",
            "|Arquiteto de Dados                 |2         |\n",
            "|Estatístico                        |1         |\n",
            "|Analista de RH                     |1         |\n",
            "|Engenheiro de Dados                |3         |\n",
            "|Analista Financeiro                |1         |\n",
            "|Gerente de Tecnologia              |1         |\n",
            "|Web Designer                       |1         |\n",
            "|Analista de Inteligência de Mercado|2         |\n",
            "+-----------------------------------+----------+\n",
            "\n"
          ]
        }
      ]
    },
    {
      "cell_type": "code",
      "source": [
        "#RETORNAR O VALOR TOTAL GASTO POR SEXO\n",
        "df4.groupBy('sexo').sum('total_gasto').select('sexo', F.round('sum(total_gasto)', 2).alias('total_gasto')).show(truncate=False)"
      ],
      "metadata": {
        "id": "i96-eh3rxa-A",
        "colab": {
          "base_uri": "https://localhost:8080/"
        },
        "outputId": "45b9f8e7-0259-45d7-8720-99506f9dc89f"
      },
      "execution_count": 83,
      "outputs": [
        {
          "output_type": "stream",
          "name": "stdout",
          "text": [
            "+---------+-----------+\n",
            "|sexo     |total_gasto|\n",
            "+---------+-----------+\n",
            "|masculino|5047.25    |\n",
            "|feminino |9205.54    |\n",
            "+---------+-----------+\n",
            "\n"
          ]
        }
      ]
    },
    {
      "cell_type": "code",
      "source": [
        "df4.schema"
      ],
      "metadata": {
        "id": "h2GQgYX04ZqI",
        "colab": {
          "base_uri": "https://localhost:8080/"
        },
        "outputId": "6e063553-7551-4127-b3db-312051cf5b8f"
      },
      "execution_count": 84,
      "outputs": [
        {
          "output_type": "execute_result",
          "data": {
            "text/plain": [
              "StructType([StructField('usuario', StringType(), True), StructField('nome', StringType(), True), StructField('sexo', StringType(), True), StructField('data_nascimento', StringType(), True), StructField('ocupacao', StringType(), True), StructField('assinatura', StringType(), True), StructField('total_gasto', DoubleType(), True), StructField('total_com_desconto', DoubleType(), True)])"
            ]
          },
          "metadata": {},
          "execution_count": 84
        }
      ]
    },
    {
      "cell_type": "code",
      "source": [
        "#RETORNAR O VALOR TOTAL GASTO POR SEXO E O VALOR MÍNIMO E MÁXIMO GASTOS POR CADA SEXO\n",
        "df5 = (df4.select(F.col('sexo'), F.col('total_gasto')).groupBy('sexo').agg(F.round(F.sum('total_gasto')).alias('total_por_sexo'),\n",
        "                                                    F.min('total_gasto').alias('valor_minimo'),\n",
        "                                                    F.max('total_gasto').alias('valor_maximo'))\n",
        ")"
      ],
      "metadata": {
        "id": "0E8uQYKB3O6h"
      },
      "execution_count": 88,
      "outputs": []
    },
    {
      "cell_type": "code",
      "source": [
        "df5.show()"
      ],
      "metadata": {
        "id": "NtpvKEqd47Cs",
        "colab": {
          "base_uri": "https://localhost:8080/"
        },
        "outputId": "234e8ad8-cffb-4a44-bc00-97d59230fc64"
      },
      "execution_count": 89,
      "outputs": [
        {
          "output_type": "stream",
          "name": "stdout",
          "text": [
            "+---------+--------------+------------+------------+\n",
            "|     sexo|total_por_sexo|valor_minimo|valor_maximo|\n",
            "+---------+--------------+------------+------------+\n",
            "|masculino|        5047.0|       51.95|     2417.81|\n",
            "| feminino|        9206.0|      130.73|     3464.72|\n",
            "+---------+--------------+------------+------------+\n",
            "\n"
          ]
        }
      ]
    },
    {
      "cell_type": "code",
      "source": [
        "#RETORNAR O VALOR TOTAL GASTO POR OCUPAÇÃO\n",
        "df4.groupBy('ocupacao').sum('total_gasto').show(truncate=False)"
      ],
      "metadata": {
        "id": "BfQ8RoH6xlpZ",
        "colab": {
          "base_uri": "https://localhost:8080/"
        },
        "outputId": "fe014d3b-45de-4708-a54d-9a2b179501a8"
      },
      "execution_count": 90,
      "outputs": [
        {
          "output_type": "stream",
          "name": "stdout",
          "text": [
            "+-----------------------------------+----------------+\n",
            "|ocupacao                           |sum(total_gasto)|\n",
            "+-----------------------------------+----------------+\n",
            "|Engenheiro de Machine Learning     |1778.72         |\n",
            "|Arquiteto de Dados                 |1006.75         |\n",
            "|Estatístico                        |130.73          |\n",
            "|Analista de RH                     |1021.77         |\n",
            "|Engenheiro de Dados                |3185.92         |\n",
            "|Analista Financeiro                |51.95           |\n",
            "|Gerente de Tecnologia              |1034.74         |\n",
            "|Web Designer                       |3464.72         |\n",
            "|Analista de Inteligência de Mercado|2577.49         |\n",
            "+-----------------------------------+----------------+\n",
            "\n"
          ]
        }
      ]
    },
    {
      "cell_type": "code",
      "source": [
        "#CRIAR UMA NOVA COLUNA CONTENDO O NÚMERO 1 PARA O SEXO MASCULINO E 2 PARA O SEXO FEMININO\n",
        "#AGORA EU TENHO UMA CONDIÇÃO - WHEN - OTHERWISE\n",
        "( df4.select('sexo').withColumn('id_sexo',\n",
        "                                F.when(F.col('sexo') == 'masculino',F.lit(1))\n",
        "                                .otherwise(F.lit(2)))\n",
        "                                .show()\n",
        ")"
      ],
      "metadata": {
        "id": "5rfwWkEq6Rs8",
        "colab": {
          "base_uri": "https://localhost:8080/"
        },
        "outputId": "40eec06e-bcef-4ff4-c717-5848e05adbdd"
      },
      "execution_count": 91,
      "outputs": [
        {
          "output_type": "stream",
          "name": "stdout",
          "text": [
            "+---------+-------+\n",
            "|     sexo|id_sexo|\n",
            "+---------+-------+\n",
            "|masculino|      1|\n",
            "| feminino|      2|\n",
            "| feminino|      2|\n",
            "| feminino|      2|\n",
            "| feminino|      2|\n",
            "| feminino|      2|\n",
            "|masculino|      1|\n",
            "|masculino|      1|\n",
            "| feminino|      2|\n",
            "| feminino|      2|\n",
            "| feminino|      2|\n",
            "|masculino|      1|\n",
            "| feminino|      2|\n",
            "+---------+-------+\n",
            "\n"
          ]
        }
      ]
    },
    {
      "cell_type": "code",
      "source": [
        "df4.select('data_nascimento').show()"
      ],
      "metadata": {
        "id": "_uMttrE6CasV",
        "colab": {
          "base_uri": "https://localhost:8080/"
        },
        "outputId": "535afaa1-2699-435f-a0f6-71a5631adb25"
      },
      "execution_count": 92,
      "outputs": [
        {
          "output_type": "stream",
          "name": "stdout",
          "text": [
            "+---------------+\n",
            "|data_nascimento|\n",
            "+---------------+\n",
            "|     01/12/1979|\n",
            "|     04/08/1960|\n",
            "|     28/06/1949|\n",
            "|     07/01/1995|\n",
            "|     04/04/1987|\n",
            "|     02/02/1970|\n",
            "|     05/07/1985|\n",
            "|     03/06/1964|\n",
            "|     04/09/1974|\n",
            "|     01/07/1983|\n",
            "|     03/01/1971|\n",
            "|     06/09/1951|\n",
            "|     09/03/1991|\n",
            "+---------------+\n",
            "\n"
          ]
        }
      ]
    },
    {
      "cell_type": "code",
      "source": [
        "#SEPARAR O DIA, MÊS E ANO EM 3 COLUNAS DIFERENTES\n",
        "df_data_separada = ( df4.select('data_nascimento')\n",
        "     .withColumn('dia', F.substring(F.col('data_nascimento'), 1, 2))\n",
        "     .withColumn('mes', F.substring(F.col('data_nascimento'), 4, 2))\n",
        "     .withColumn('ano', F.substring(F.col('data_nascimento'), 7, 4))\n",
        ")"
      ],
      "metadata": {
        "id": "r1wPlBKoB64f"
      },
      "execution_count": 95,
      "outputs": []
    },
    {
      "cell_type": "code",
      "source": [
        "df_data_separada.show(2)"
      ],
      "metadata": {
        "id": "9Ooc5jWCIKyU",
        "colab": {
          "base_uri": "https://localhost:8080/"
        },
        "outputId": "69a64976-0749-4c7a-b34a-b634e054e697"
      },
      "execution_count": 96,
      "outputs": [
        {
          "output_type": "stream",
          "name": "stdout",
          "text": [
            "+---------------+---+---+----+\n",
            "|data_nascimento|dia|mes| ano|\n",
            "+---------------+---+---+----+\n",
            "|     01/12/1979| 01| 12|1979|\n",
            "|     04/08/1960| 04| 08|1960|\n",
            "+---------------+---+---+----+\n",
            "only showing top 2 rows\n",
            "\n"
          ]
        }
      ]
    },
    {
      "cell_type": "code",
      "source": [
        "df_data_separada.printSchema()"
      ],
      "metadata": {
        "id": "jhazrlIUITKB",
        "colab": {
          "base_uri": "https://localhost:8080/"
        },
        "outputId": "9db3bb53-ce84-44bb-f941-d0a01b6c6f9e"
      },
      "execution_count": 97,
      "outputs": [
        {
          "output_type": "stream",
          "name": "stdout",
          "text": [
            "root\n",
            " |-- data_nascimento: string (nullable = true)\n",
            " |-- dia: string (nullable = true)\n",
            " |-- mes: string (nullable = true)\n",
            " |-- ano: string (nullable = true)\n",
            "\n"
          ]
        }
      ]
    },
    {
      "cell_type": "code",
      "source": [
        "#FUNÇÃO PARA ALTERAR VALORES DENTRO DE UMA COLUNA\n",
        "df6 = ( df4.withColumn('sexo', F.when(F.col('sexo') == 'masculino', F.regexp_replace(F.col('sexo'), 'masculino', 'm'))\n",
        "                                .when(F.col('sexo') == 'feminino', F.regexp_replace(F.col('sexo'), 'feminino', 'f'))\n",
        "                                .otherwise('Nao informado')\n",
        "                       )\n",
        ")"
      ],
      "metadata": {
        "id": "RkS1Iv9ZVnG5"
      },
      "execution_count": 102,
      "outputs": []
    },
    {
      "cell_type": "code",
      "source": [
        "df6.show(truncate=False)"
      ],
      "metadata": {
        "id": "y0HOJxOadmTg",
        "colab": {
          "base_uri": "https://localhost:8080/"
        },
        "outputId": "b36b35f1-4aef-4798-e645-f51d8b8b20ea"
      },
      "execution_count": 104,
      "outputs": [
        {
          "output_type": "stream",
          "name": "stdout",
          "text": [
            "+-------------+-------------------------+----+---------------+-----------------------------------+----------+-----------+------------------+\n",
            "|usuario      |nome                     |sexo|data_nascimento|ocupacao                           |assinatura|total_gasto|total_com_desconto|\n",
            "+-------------+-------------------------+----+---------------+-----------------------------------+----------+-----------+------------------+\n",
            "|Neaude1978   |  Mr \\tbailey Glover     |m   |01/12/1979     |Analista de Inteligência de Mercado|01/10/2021|1257.45    |1131.71           |\n",
            "|Maress39     |Mrs  \\t isabella   Fowler|f   |04/08/1960     |Arquiteto de Dados                 |24/03/2020|771.99     |694.79            |\n",
            "|Kehonell     | Mrs Chloe \\tKirby       |f   |28/06/1949     |Analista de RH                     |07/06/2020|1021.77    |919.59            |\n",
            "|Thimpay      | Mrs louise \\tClark      |f   |07/01/1995     |Arquiteto de Dados                 |03/11/2020|234.76     |211.28            |\n",
            "|Giall1985    |Mr Harrison \\t Bowen     |f   |04/04/1987     |Engenheiro de Dados                |25/03/2020|628.07     |565.26            |\n",
            "|Neave1959    |Mrs anna \\t     Sharp    |f   |02/02/1970     |Engenheiro de Dados                |18/09/2020|140.04     |126.04            |\n",
            "|Nicterims1993|  Mrs \\tDaisy Anderson   |m   |05/07/1985     |Engenheiro de Dados                |29/01/2021|2417.81    |2176.03           |\n",
            "|Fouldlairity |Ms zoe \\tPeacock         |m   |03/06/1964     |Analista Financeiro                |04/12/2020|51.95      |46.76             |\n",
            "|Ancomettiody | Mrs Libby \\tWilliams    |f   |04/09/1974     |Estatístico                        |21/11/2020|130.73     |117.66            |\n",
            "|Onswis       |Ms Katie \\tMmtcalfe      |f   |01/07/1983     |Engenheiro de Machine Learning     |27/02/2021|1778.72    |1600.85           |\n",
            "|Majeappre    |Mr Luca \\tVaughan        |f   |03/01/1971     |Gerente de Tecnologia              |15/07/2022|1034.74    |931.27            |\n",
            "|Theired      |Mr Henry \\tHaynes        |m   |06/09/1951     |Analista de Inteligência de Mercado|23/12/2022|1320.04    |1188.04           |\n",
            "|Botter       |Mr Noah \\tWalton         |f   |09/03/1991     |Web Designer                       |26/07/2022|3464.72    |3118.25           |\n",
            "+-------------+-------------------------+----+---------------+-----------------------------------+----------+-----------+------------------+\n",
            "\n"
          ]
        }
      ]
    },
    {
      "cell_type": "code",
      "source": [
        "#REMOVER LINHAS DUPLICADAS NO DATAFRAME\n",
        "df6.dropDuplicates()\n",
        "total_linhas = df6.count()\n",
        "total_linhas_distintas = df6.distinct().count()\n",
        "\n",
        "print(total_linhas - total_linhas_distintas)"
      ],
      "metadata": {
        "id": "BEqfkpuUaaRy",
        "colab": {
          "base_uri": "https://localhost:8080/"
        },
        "outputId": "825f9e2d-d469-491d-e79e-22b575995f06"
      },
      "execution_count": 106,
      "outputs": [
        {
          "output_type": "stream",
          "name": "stdout",
          "text": [
            "0\n"
          ]
        }
      ]
    },
    {
      "cell_type": "code",
      "source": [
        "#SUBSTITUIÇÃO DE VALORES NULOS\n",
        "df6.fillna('NA', subset=['Nome', 'sexo', 'data_nascimento'])"
      ],
      "metadata": {
        "id": "oRcX31nSbDy-",
        "colab": {
          "base_uri": "https://localhost:8080/"
        },
        "outputId": "1f1298d8-7d0a-425e-976f-29c8e9c49ee4"
      },
      "execution_count": 114,
      "outputs": [
        {
          "output_type": "execute_result",
          "data": {
            "text/plain": [
              "DataFrame[usuario: string, nome: string, sexo: string, data_nascimento: string, ocupacao: string, assinatura: string, total_gasto: double, total_com_desconto: double]"
            ]
          },
          "metadata": {},
          "execution_count": 114
        }
      ]
    },
    {
      "cell_type": "code",
      "source": [
        "df6.summary().show()"
      ],
      "metadata": {
        "id": "2n0uQP7eg_ZA",
        "colab": {
          "base_uri": "https://localhost:8080/"
        },
        "outputId": "f944a8c8-4088-4195-9fe1-f0bd82420a5b"
      },
      "execution_count": 115,
      "outputs": [
        {
          "output_type": "stream",
          "name": "stdout",
          "text": [
            "+-------+------------+--------------------+----+---------------+-------------------+----------+------------------+------------------+\n",
            "|summary|     usuario|                nome|sexo|data_nascimento|           ocupacao|assinatura|       total_gasto|total_com_desconto|\n",
            "+-------+------------+--------------------+----+---------------+-------------------+----------+------------------+------------------+\n",
            "|  count|          13|                  13|  13|             13|                 13|        13|                13|                13|\n",
            "|   mean|        NULL|                NULL|NULL|           NULL|               NULL|      NULL|1096.3684615384614| 986.7330769230771|\n",
            "| stddev|        NULL|                NULL|NULL|           NULL|               NULL|      NULL| 996.2833119553741| 896.6551757911606|\n",
            "|    min|Ancomettiody|  Mr \\tbailey Glo...|   f|     01/07/1983|Analista Financeiro|01/10/2021|             51.95|             46.76|\n",
            "|    25%|        NULL|                NULL|NULL|           NULL|               NULL|      NULL|            234.76|            211.28|\n",
            "|    50%|        NULL|                NULL|NULL|           NULL|               NULL|      NULL|           1021.77|            919.59|\n",
            "|    75%|        NULL|                NULL|NULL|           NULL|               NULL|      NULL|           1320.04|           1188.04|\n",
            "|    max|     Thimpay|    Ms zoe \\tPeacock|   m|     28/06/1949|       Web Designer|29/01/2021|           3464.72|           3118.25|\n",
            "+-------+------------+--------------------+----+---------------+-------------------+----------+------------------+------------------+\n",
            "\n"
          ]
        }
      ]
    },
    {
      "cell_type": "code",
      "source": [
        "#REMOVER UMA COLUNA NO DATAFRAME\n",
        "df6.drop(F.col('usuario')).show(truncate=False)"
      ],
      "metadata": {
        "id": "V6c9-2-Ba6It",
        "colab": {
          "base_uri": "https://localhost:8080/"
        },
        "outputId": "adaea54f-44e5-47f4-c132-2090dec4e5db"
      },
      "execution_count": 111,
      "outputs": [
        {
          "output_type": "stream",
          "name": "stdout",
          "text": [
            "+-------------------------+----+---------------+-----------------------------------+----------+-----------+------------------+\n",
            "|nome                     |sexo|data_nascimento|ocupacao                           |assinatura|total_gasto|total_com_desconto|\n",
            "+-------------------------+----+---------------+-----------------------------------+----------+-----------+------------------+\n",
            "|  Mr \\tbailey Glover     |m   |01/12/1979     |Analista de Inteligência de Mercado|01/10/2021|1257.45    |1131.71           |\n",
            "|Mrs  \\t isabella   Fowler|f   |04/08/1960     |Arquiteto de Dados                 |24/03/2020|771.99     |694.79            |\n",
            "| Mrs Chloe \\tKirby       |f   |28/06/1949     |Analista de RH                     |07/06/2020|1021.77    |919.59            |\n",
            "| Mrs louise \\tClark      |f   |07/01/1995     |Arquiteto de Dados                 |03/11/2020|234.76     |211.28            |\n",
            "|Mr Harrison \\t Bowen     |f   |04/04/1987     |Engenheiro de Dados                |25/03/2020|628.07     |565.26            |\n",
            "|Mrs anna \\t     Sharp    |f   |02/02/1970     |Engenheiro de Dados                |18/09/2020|140.04     |126.04            |\n",
            "|  Mrs \\tDaisy Anderson   |m   |05/07/1985     |Engenheiro de Dados                |29/01/2021|2417.81    |2176.03           |\n",
            "|Ms zoe \\tPeacock         |m   |03/06/1964     |Analista Financeiro                |04/12/2020|51.95      |46.76             |\n",
            "| Mrs Libby \\tWilliams    |f   |04/09/1974     |Estatístico                        |21/11/2020|130.73     |117.66            |\n",
            "|Ms Katie \\tMmtcalfe      |f   |01/07/1983     |Engenheiro de Machine Learning     |27/02/2021|1778.72    |1600.85           |\n",
            "|Mr Luca \\tVaughan        |f   |03/01/1971     |Gerente de Tecnologia              |15/07/2022|1034.74    |931.27            |\n",
            "|Mr Henry \\tHaynes        |m   |06/09/1951     |Analista de Inteligência de Mercado|23/12/2022|1320.04    |1188.04           |\n",
            "|Mr Noah \\tWalton         |f   |09/03/1991     |Web Designer                       |26/07/2022|3464.72    |3118.25           |\n",
            "+-------------------------+----+---------------+-----------------------------------+----------+-----------+------------------+\n",
            "\n"
          ]
        }
      ]
    },
    {
      "cell_type": "code",
      "source": [
        "df.select('data_nascimento').show()"
      ],
      "metadata": {
        "colab": {
          "base_uri": "https://localhost:8080/"
        },
        "id": "NYVYrvK0l24i",
        "outputId": "eadcb4b1-0032-4a35-b0c8-70bce07111b9"
      },
      "execution_count": 116,
      "outputs": [
        {
          "output_type": "stream",
          "name": "stdout",
          "text": [
            "+---------------+\n",
            "|data_nascimento|\n",
            "+---------------+\n",
            "|     01/12/1979|\n",
            "|     04/08/1960|\n",
            "|     28/06/1949|\n",
            "|     07/01/1995|\n",
            "|     04/04/1987|\n",
            "|     02/02/1970|\n",
            "|     05/07/1985|\n",
            "|     03/06/1964|\n",
            "|     04/09/1974|\n",
            "|     01/07/1983|\n",
            "|     03/01/1971|\n",
            "|     06/09/1951|\n",
            "|     09/03/1991|\n",
            "+---------------+\n",
            "\n"
          ]
        }
      ]
    },
    {
      "cell_type": "code",
      "source": [
        "#1) datediff - retorna a diferença em dias entre duas colunas\n",
        "#2) monthsBetween - retorna a diferença em meses entre duas datas"
      ],
      "metadata": {
        "id": "qEwSkC5zvpPl"
      },
      "execution_count": null,
      "outputs": []
    },
    {
      "cell_type": "code",
      "source": [
        "#Converter data_nascimento e assinatura para date e aplicar as duas funções acima\n",
        "df7 = ( df6.select('data_nascimento','assinatura')\n",
        "      .withColumn('nasc_date', F.to_date(F.col('data_nascimento'), 'dd/MM/yyyy'))\n",
        "      .withColumn('assinatura_date', F.to_date(F.col('assinatura'), 'dd/MM/yyyy'))\n",
        "\n",
        ")"
      ],
      "metadata": {
        "id": "eMNgDJFY5xI-"
      },
      "execution_count": 130,
      "outputs": []
    },
    {
      "cell_type": "code",
      "source": [
        "df7.show(truncate=False)"
      ],
      "metadata": {
        "colab": {
          "base_uri": "https://localhost:8080/"
        },
        "id": "nHnftWYAXDFm",
        "outputId": "821b86a2-d483-46b6-8647-5bf6167024dc"
      },
      "execution_count": 131,
      "outputs": [
        {
          "output_type": "stream",
          "name": "stdout",
          "text": [
            "+---------------+----------+----------+---------------+\n",
            "|data_nascimento|assinatura|nasc_date |assinatura_date|\n",
            "+---------------+----------+----------+---------------+\n",
            "|01/12/1979     |01/10/2021|1979-12-01|2021-10-01     |\n",
            "|04/08/1960     |24/03/2020|1960-08-04|2020-03-24     |\n",
            "|28/06/1949     |07/06/2020|1949-06-28|2020-06-07     |\n",
            "|07/01/1995     |03/11/2020|1995-01-07|2020-11-03     |\n",
            "|04/04/1987     |25/03/2020|1987-04-04|2020-03-25     |\n",
            "|02/02/1970     |18/09/2020|1970-02-02|2020-09-18     |\n",
            "|05/07/1985     |29/01/2021|1985-07-05|2021-01-29     |\n",
            "|03/06/1964     |04/12/2020|1964-06-03|2020-12-04     |\n",
            "|04/09/1974     |21/11/2020|1974-09-04|2020-11-21     |\n",
            "|01/07/1983     |27/02/2021|1983-07-01|2021-02-27     |\n",
            "|03/01/1971     |15/07/2022|1971-01-03|2022-07-15     |\n",
            "|06/09/1951     |23/12/2022|1951-09-06|2022-12-23     |\n",
            "|09/03/1991     |26/07/2022|1991-03-09|2022-07-26     |\n",
            "+---------------+----------+----------+---------------+\n",
            "\n"
          ]
        }
      ]
    },
    {
      "cell_type": "code",
      "source": [
        "df7.dtypes"
      ],
      "metadata": {
        "colab": {
          "base_uri": "https://localhost:8080/"
        },
        "id": "hjuMOLo7rr2R",
        "outputId": "7351545c-8455-4275-f58e-d41700091486"
      },
      "execution_count": 132,
      "outputs": [
        {
          "output_type": "execute_result",
          "data": {
            "text/plain": [
              "[('data_nascimento', 'string'),\n",
              " ('assinatura', 'string'),\n",
              " ('nasc_date', 'date'),\n",
              " ('assinatura_date', 'date')]"
            ]
          },
          "metadata": {},
          "execution_count": 132
        }
      ]
    },
    {
      "cell_type": "code",
      "source": [
        "# Passando dataframe pyspark para dataframe pandas\n",
        "df_pandas = df6.toPandas()\n",
        "\n",
        "df_pandas.head(10)"
      ],
      "metadata": {
        "colab": {
          "base_uri": "https://localhost:8080/",
          "height": 363
        },
        "id": "zvwy_NtBVwSN",
        "outputId": "71cbbbf6-9582-4c3f-caeb-afc511abee3c"
      },
      "execution_count": 133,
      "outputs": [
        {
          "output_type": "execute_result",
          "data": {
            "text/plain": [
              "         usuario                       nome sexo data_nascimento  \\\n",
              "0     Neaude1978       Mr \\tbailey Glover      m      01/12/1979   \n",
              "1       Maress39  Mrs  \\t isabella   Fowler    f      04/08/1960   \n",
              "2       Kehonell        Mrs Chloe \\tKirby      f      28/06/1949   \n",
              "3        Thimpay       Mrs louise \\tClark      f      07/01/1995   \n",
              "4      Giall1985       Mr Harrison \\t Bowen    f      04/04/1987   \n",
              "5      Neave1959      Mrs anna \\t     Sharp    f      02/02/1970   \n",
              "6  Nicterims1993     Mrs \\tDaisy Anderson      m      05/07/1985   \n",
              "7   Fouldlairity           Ms zoe \\tPeacock    m      03/06/1964   \n",
              "8   Ancomettiody     Mrs Libby \\tWilliams      f      04/09/1974   \n",
              "9         Onswis        Ms Katie \\tMmtcalfe    f      01/07/1983   \n",
              "\n",
              "                              ocupacao  assinatura  total_gasto  \\\n",
              "0  Analista de Inteligência de Mercado  01/10/2021      1257.45   \n",
              "1                   Arquiteto de Dados  24/03/2020       771.99   \n",
              "2                       Analista de RH  07/06/2020      1021.77   \n",
              "3                   Arquiteto de Dados  03/11/2020       234.76   \n",
              "4                  Engenheiro de Dados  25/03/2020       628.07   \n",
              "5                  Engenheiro de Dados  18/09/2020       140.04   \n",
              "6                  Engenheiro de Dados  29/01/2021      2417.81   \n",
              "7                  Analista Financeiro  04/12/2020        51.95   \n",
              "8                          Estatístico  21/11/2020       130.73   \n",
              "9       Engenheiro de Machine Learning  27/02/2021      1778.72   \n",
              "\n",
              "   total_com_desconto  \n",
              "0             1131.71  \n",
              "1              694.79  \n",
              "2              919.59  \n",
              "3              211.28  \n",
              "4              565.26  \n",
              "5              126.04  \n",
              "6             2176.03  \n",
              "7               46.76  \n",
              "8              117.66  \n",
              "9             1600.85  "
            ],
            "text/html": [
              "\n",
              "  <div id=\"df-0f938287-e7ad-4e4f-a5da-aa34a8948429\" class=\"colab-df-container\">\n",
              "    <div>\n",
              "<style scoped>\n",
              "    .dataframe tbody tr th:only-of-type {\n",
              "        vertical-align: middle;\n",
              "    }\n",
              "\n",
              "    .dataframe tbody tr th {\n",
              "        vertical-align: top;\n",
              "    }\n",
              "\n",
              "    .dataframe thead th {\n",
              "        text-align: right;\n",
              "    }\n",
              "</style>\n",
              "<table border=\"1\" class=\"dataframe\">\n",
              "  <thead>\n",
              "    <tr style=\"text-align: right;\">\n",
              "      <th></th>\n",
              "      <th>usuario</th>\n",
              "      <th>nome</th>\n",
              "      <th>sexo</th>\n",
              "      <th>data_nascimento</th>\n",
              "      <th>ocupacao</th>\n",
              "      <th>assinatura</th>\n",
              "      <th>total_gasto</th>\n",
              "      <th>total_com_desconto</th>\n",
              "    </tr>\n",
              "  </thead>\n",
              "  <tbody>\n",
              "    <tr>\n",
              "      <th>0</th>\n",
              "      <td>Neaude1978</td>\n",
              "      <td>Mr \\tbailey Glover</td>\n",
              "      <td>m</td>\n",
              "      <td>01/12/1979</td>\n",
              "      <td>Analista de Inteligência de Mercado</td>\n",
              "      <td>01/10/2021</td>\n",
              "      <td>1257.45</td>\n",
              "      <td>1131.71</td>\n",
              "    </tr>\n",
              "    <tr>\n",
              "      <th>1</th>\n",
              "      <td>Maress39</td>\n",
              "      <td>Mrs  \\t isabella   Fowler</td>\n",
              "      <td>f</td>\n",
              "      <td>04/08/1960</td>\n",
              "      <td>Arquiteto de Dados</td>\n",
              "      <td>24/03/2020</td>\n",
              "      <td>771.99</td>\n",
              "      <td>694.79</td>\n",
              "    </tr>\n",
              "    <tr>\n",
              "      <th>2</th>\n",
              "      <td>Kehonell</td>\n",
              "      <td>Mrs Chloe \\tKirby</td>\n",
              "      <td>f</td>\n",
              "      <td>28/06/1949</td>\n",
              "      <td>Analista de RH</td>\n",
              "      <td>07/06/2020</td>\n",
              "      <td>1021.77</td>\n",
              "      <td>919.59</td>\n",
              "    </tr>\n",
              "    <tr>\n",
              "      <th>3</th>\n",
              "      <td>Thimpay</td>\n",
              "      <td>Mrs louise \\tClark</td>\n",
              "      <td>f</td>\n",
              "      <td>07/01/1995</td>\n",
              "      <td>Arquiteto de Dados</td>\n",
              "      <td>03/11/2020</td>\n",
              "      <td>234.76</td>\n",
              "      <td>211.28</td>\n",
              "    </tr>\n",
              "    <tr>\n",
              "      <th>4</th>\n",
              "      <td>Giall1985</td>\n",
              "      <td>Mr Harrison \\t Bowen</td>\n",
              "      <td>f</td>\n",
              "      <td>04/04/1987</td>\n",
              "      <td>Engenheiro de Dados</td>\n",
              "      <td>25/03/2020</td>\n",
              "      <td>628.07</td>\n",
              "      <td>565.26</td>\n",
              "    </tr>\n",
              "    <tr>\n",
              "      <th>5</th>\n",
              "      <td>Neave1959</td>\n",
              "      <td>Mrs anna \\t     Sharp</td>\n",
              "      <td>f</td>\n",
              "      <td>02/02/1970</td>\n",
              "      <td>Engenheiro de Dados</td>\n",
              "      <td>18/09/2020</td>\n",
              "      <td>140.04</td>\n",
              "      <td>126.04</td>\n",
              "    </tr>\n",
              "    <tr>\n",
              "      <th>6</th>\n",
              "      <td>Nicterims1993</td>\n",
              "      <td>Mrs \\tDaisy Anderson</td>\n",
              "      <td>m</td>\n",
              "      <td>05/07/1985</td>\n",
              "      <td>Engenheiro de Dados</td>\n",
              "      <td>29/01/2021</td>\n",
              "      <td>2417.81</td>\n",
              "      <td>2176.03</td>\n",
              "    </tr>\n",
              "    <tr>\n",
              "      <th>7</th>\n",
              "      <td>Fouldlairity</td>\n",
              "      <td>Ms zoe \\tPeacock</td>\n",
              "      <td>m</td>\n",
              "      <td>03/06/1964</td>\n",
              "      <td>Analista Financeiro</td>\n",
              "      <td>04/12/2020</td>\n",
              "      <td>51.95</td>\n",
              "      <td>46.76</td>\n",
              "    </tr>\n",
              "    <tr>\n",
              "      <th>8</th>\n",
              "      <td>Ancomettiody</td>\n",
              "      <td>Mrs Libby \\tWilliams</td>\n",
              "      <td>f</td>\n",
              "      <td>04/09/1974</td>\n",
              "      <td>Estatístico</td>\n",
              "      <td>21/11/2020</td>\n",
              "      <td>130.73</td>\n",
              "      <td>117.66</td>\n",
              "    </tr>\n",
              "    <tr>\n",
              "      <th>9</th>\n",
              "      <td>Onswis</td>\n",
              "      <td>Ms Katie \\tMmtcalfe</td>\n",
              "      <td>f</td>\n",
              "      <td>01/07/1983</td>\n",
              "      <td>Engenheiro de Machine Learning</td>\n",
              "      <td>27/02/2021</td>\n",
              "      <td>1778.72</td>\n",
              "      <td>1600.85</td>\n",
              "    </tr>\n",
              "  </tbody>\n",
              "</table>\n",
              "</div>\n",
              "    <div class=\"colab-df-buttons\">\n",
              "\n",
              "  <div class=\"colab-df-container\">\n",
              "    <button class=\"colab-df-convert\" onclick=\"convertToInteractive('df-0f938287-e7ad-4e4f-a5da-aa34a8948429')\"\n",
              "            title=\"Convert this dataframe to an interactive table.\"\n",
              "            style=\"display:none;\">\n",
              "\n",
              "  <svg xmlns=\"http://www.w3.org/2000/svg\" height=\"24px\" viewBox=\"0 -960 960 960\">\n",
              "    <path d=\"M120-120v-720h720v720H120Zm60-500h600v-160H180v160Zm220 220h160v-160H400v160Zm0 220h160v-160H400v160ZM180-400h160v-160H180v160Zm440 0h160v-160H620v160ZM180-180h160v-160H180v160Zm440 0h160v-160H620v160Z\"/>\n",
              "  </svg>\n",
              "    </button>\n",
              "\n",
              "  <style>\n",
              "    .colab-df-container {\n",
              "      display:flex;\n",
              "      gap: 12px;\n",
              "    }\n",
              "\n",
              "    .colab-df-convert {\n",
              "      background-color: #E8F0FE;\n",
              "      border: none;\n",
              "      border-radius: 50%;\n",
              "      cursor: pointer;\n",
              "      display: none;\n",
              "      fill: #1967D2;\n",
              "      height: 32px;\n",
              "      padding: 0 0 0 0;\n",
              "      width: 32px;\n",
              "    }\n",
              "\n",
              "    .colab-df-convert:hover {\n",
              "      background-color: #E2EBFA;\n",
              "      box-shadow: 0px 1px 2px rgba(60, 64, 67, 0.3), 0px 1px 3px 1px rgba(60, 64, 67, 0.15);\n",
              "      fill: #174EA6;\n",
              "    }\n",
              "\n",
              "    .colab-df-buttons div {\n",
              "      margin-bottom: 4px;\n",
              "    }\n",
              "\n",
              "    [theme=dark] .colab-df-convert {\n",
              "      background-color: #3B4455;\n",
              "      fill: #D2E3FC;\n",
              "    }\n",
              "\n",
              "    [theme=dark] .colab-df-convert:hover {\n",
              "      background-color: #434B5C;\n",
              "      box-shadow: 0px 1px 3px 1px rgba(0, 0, 0, 0.15);\n",
              "      filter: drop-shadow(0px 1px 2px rgba(0, 0, 0, 0.3));\n",
              "      fill: #FFFFFF;\n",
              "    }\n",
              "  </style>\n",
              "\n",
              "    <script>\n",
              "      const buttonEl =\n",
              "        document.querySelector('#df-0f938287-e7ad-4e4f-a5da-aa34a8948429 button.colab-df-convert');\n",
              "      buttonEl.style.display =\n",
              "        google.colab.kernel.accessAllowed ? 'block' : 'none';\n",
              "\n",
              "      async function convertToInteractive(key) {\n",
              "        const element = document.querySelector('#df-0f938287-e7ad-4e4f-a5da-aa34a8948429');\n",
              "        const dataTable =\n",
              "          await google.colab.kernel.invokeFunction('convertToInteractive',\n",
              "                                                    [key], {});\n",
              "        if (!dataTable) return;\n",
              "\n",
              "        const docLinkHtml = 'Like what you see? Visit the ' +\n",
              "          '<a target=\"_blank\" href=https://colab.research.google.com/notebooks/data_table.ipynb>data table notebook</a>'\n",
              "          + ' to learn more about interactive tables.';\n",
              "        element.innerHTML = '';\n",
              "        dataTable['output_type'] = 'display_data';\n",
              "        await google.colab.output.renderOutput(dataTable, element);\n",
              "        const docLink = document.createElement('div');\n",
              "        docLink.innerHTML = docLinkHtml;\n",
              "        element.appendChild(docLink);\n",
              "      }\n",
              "    </script>\n",
              "  </div>\n",
              "\n",
              "\n",
              "<div id=\"df-67cf10e6-9591-4b84-a243-4844cef8fb01\">\n",
              "  <button class=\"colab-df-quickchart\" onclick=\"quickchart('df-67cf10e6-9591-4b84-a243-4844cef8fb01')\"\n",
              "            title=\"Suggest charts\"\n",
              "            style=\"display:none;\">\n",
              "\n",
              "<svg xmlns=\"http://www.w3.org/2000/svg\" height=\"24px\"viewBox=\"0 0 24 24\"\n",
              "     width=\"24px\">\n",
              "    <g>\n",
              "        <path d=\"M19 3H5c-1.1 0-2 .9-2 2v14c0 1.1.9 2 2 2h14c1.1 0 2-.9 2-2V5c0-1.1-.9-2-2-2zM9 17H7v-7h2v7zm4 0h-2V7h2v10zm4 0h-2v-4h2v4z\"/>\n",
              "    </g>\n",
              "</svg>\n",
              "  </button>\n",
              "\n",
              "<style>\n",
              "  .colab-df-quickchart {\n",
              "      --bg-color: #E8F0FE;\n",
              "      --fill-color: #1967D2;\n",
              "      --hover-bg-color: #E2EBFA;\n",
              "      --hover-fill-color: #174EA6;\n",
              "      --disabled-fill-color: #AAA;\n",
              "      --disabled-bg-color: #DDD;\n",
              "  }\n",
              "\n",
              "  [theme=dark] .colab-df-quickchart {\n",
              "      --bg-color: #3B4455;\n",
              "      --fill-color: #D2E3FC;\n",
              "      --hover-bg-color: #434B5C;\n",
              "      --hover-fill-color: #FFFFFF;\n",
              "      --disabled-bg-color: #3B4455;\n",
              "      --disabled-fill-color: #666;\n",
              "  }\n",
              "\n",
              "  .colab-df-quickchart {\n",
              "    background-color: var(--bg-color);\n",
              "    border: none;\n",
              "    border-radius: 50%;\n",
              "    cursor: pointer;\n",
              "    display: none;\n",
              "    fill: var(--fill-color);\n",
              "    height: 32px;\n",
              "    padding: 0;\n",
              "    width: 32px;\n",
              "  }\n",
              "\n",
              "  .colab-df-quickchart:hover {\n",
              "    background-color: var(--hover-bg-color);\n",
              "    box-shadow: 0 1px 2px rgba(60, 64, 67, 0.3), 0 1px 3px 1px rgba(60, 64, 67, 0.15);\n",
              "    fill: var(--button-hover-fill-color);\n",
              "  }\n",
              "\n",
              "  .colab-df-quickchart-complete:disabled,\n",
              "  .colab-df-quickchart-complete:disabled:hover {\n",
              "    background-color: var(--disabled-bg-color);\n",
              "    fill: var(--disabled-fill-color);\n",
              "    box-shadow: none;\n",
              "  }\n",
              "\n",
              "  .colab-df-spinner {\n",
              "    border: 2px solid var(--fill-color);\n",
              "    border-color: transparent;\n",
              "    border-bottom-color: var(--fill-color);\n",
              "    animation:\n",
              "      spin 1s steps(1) infinite;\n",
              "  }\n",
              "\n",
              "  @keyframes spin {\n",
              "    0% {\n",
              "      border-color: transparent;\n",
              "      border-bottom-color: var(--fill-color);\n",
              "      border-left-color: var(--fill-color);\n",
              "    }\n",
              "    20% {\n",
              "      border-color: transparent;\n",
              "      border-left-color: var(--fill-color);\n",
              "      border-top-color: var(--fill-color);\n",
              "    }\n",
              "    30% {\n",
              "      border-color: transparent;\n",
              "      border-left-color: var(--fill-color);\n",
              "      border-top-color: var(--fill-color);\n",
              "      border-right-color: var(--fill-color);\n",
              "    }\n",
              "    40% {\n",
              "      border-color: transparent;\n",
              "      border-right-color: var(--fill-color);\n",
              "      border-top-color: var(--fill-color);\n",
              "    }\n",
              "    60% {\n",
              "      border-color: transparent;\n",
              "      border-right-color: var(--fill-color);\n",
              "    }\n",
              "    80% {\n",
              "      border-color: transparent;\n",
              "      border-right-color: var(--fill-color);\n",
              "      border-bottom-color: var(--fill-color);\n",
              "    }\n",
              "    90% {\n",
              "      border-color: transparent;\n",
              "      border-bottom-color: var(--fill-color);\n",
              "    }\n",
              "  }\n",
              "</style>\n",
              "\n",
              "  <script>\n",
              "    async function quickchart(key) {\n",
              "      const quickchartButtonEl =\n",
              "        document.querySelector('#' + key + ' button');\n",
              "      quickchartButtonEl.disabled = true;  // To prevent multiple clicks.\n",
              "      quickchartButtonEl.classList.add('colab-df-spinner');\n",
              "      try {\n",
              "        const charts = await google.colab.kernel.invokeFunction(\n",
              "            'suggestCharts', [key], {});\n",
              "      } catch (error) {\n",
              "        console.error('Error during call to suggestCharts:', error);\n",
              "      }\n",
              "      quickchartButtonEl.classList.remove('colab-df-spinner');\n",
              "      quickchartButtonEl.classList.add('colab-df-quickchart-complete');\n",
              "    }\n",
              "    (() => {\n",
              "      let quickchartButtonEl =\n",
              "        document.querySelector('#df-67cf10e6-9591-4b84-a243-4844cef8fb01 button');\n",
              "      quickchartButtonEl.style.display =\n",
              "        google.colab.kernel.accessAllowed ? 'block' : 'none';\n",
              "    })();\n",
              "  </script>\n",
              "</div>\n",
              "\n",
              "    </div>\n",
              "  </div>\n"
            ]
          },
          "metadata": {},
          "execution_count": 133
        }
      ]
    }
  ]
}